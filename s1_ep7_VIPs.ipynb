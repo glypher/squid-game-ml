{
 "cells": [
  {
   "cell_type": "markdown",
   "id": "e13c82bf-a8f1-40a5-a120-fdf470c4f6b2",
   "metadata": {},
   "source": [
    "### Squid Games ML\n",
    "\n",
    "https://en.wikipedia.org/wiki/Squid_Game_season_1\n",
    "\n",
    "#### Season 1 episode 7\n",
    "\n",
    "There are 15 2x tiles of glass each with a 0.5 probability of being a tempered glass.\n",
    "- To model this each step on a single level of either a glass or a tempered glass tile is a Bernoulli distribution with probability 0.5\n",
    "\n",
    "- To model a players death tile distribution - the tile where it will eventually fall - is a Geometric distribution - the number of Bernoulli trials until success - in our case success = death\n",
    "\n",
    "To model each player start at the last tile where the previous player dies I use cumsum on the samples...\n"
   ]
  },
  {
   "cell_type": "code",
   "execution_count": null,
   "id": "d061e690-a310-4064-ad59-d3de8af3947c",
   "metadata": {},
   "outputs": [
    {
     "name": "stdout",
     "output_type": "stream",
     "text": [
      "Note: you may need to restart the kernel to use updated packages.\n",
      "Note: you may need to restart the kernel to use updated packages.\n"
     ]
    }
   ],
   "source": [
    "import os\n",
    "\n",
    "%pip install --quiet tensorflow\n",
    "%pip install --quiet tf-keras\n",
    "%pip install --quiet tensorflow-probability\n",
    "%pip install --quiet arviz\n",
    "%pip install --quiet seaborn\n",
    "\n",
    "import numpy as np\n",
    "import arviz as az\n",
    "import seaborn as sns\n",
    "from collections import OrderedDict\n",
    "import tensorflow as tf\n",
    "import tensorflow_probability as tfp"
   ]
  },
  {
   "cell_type": "code",
   "execution_count": null,
   "id": "d4dfa045-0486-4bee-9702-326dc6a35353",
   "metadata": {},
   "outputs": [],
   "source": [
    "NO_SAMPLES = 10000\n",
    "MAX_TILE = 15\n",
    "\n",
    "player = tfp.distributions.Geometric(probs=0.5)\n",
    "\n",
    "samples = np.clip(1 + player.sample(NO_SAMPLES).numpy(), 1, MAX_TILE+1).astype(int)\n",
    "\n",
    "\n",
    "az.plot_dist(samples)"
   ]
  },
  {
   "cell_type": "code",
   "execution_count": null,
   "id": "bca5b479-db58-4b50-9a85-a6fdef29ffe8",
   "metadata": {},
   "outputs": [],
   "source": [
    "NO_PLAYERS=10\n",
    "\n",
    "players = tfp.distributions.Independent(\n",
    "    tfp.distributions.Geometric(probs=[0.5]*NO_PLAYERS),\n",
    "    reinterpreted_batch_ndims=1\n",
    ")\n",
    "\n",
    "samples = np.clip(1 + np.cumsum(players.sample(NO_SAMPLES).numpy(), axis=1), 1, MAX_TILE+1).astype(int)\n",
    "\n",
    "data = [(f'Player {i+1}', samples[:, i]) for i in range(NO_PLAYERS)]\n",
    "\n",
    "\n",
    "sns.displot(dict(data[:5]), kde=True)\n",
    "sns.displot(dict(data[5:]), kde=True)"
   ]
  },
  {
   "cell_type": "code",
   "execution_count": null,
   "id": "29435519-14c5-46b7-9a19-2f8177dc6919",
   "metadata": {},
   "outputs": [],
   "source": []
  }
 ],
 "metadata": {
  "kernelspec": {
   "display_name": "Python 3 (ipykernel)",
   "language": "python",
   "name": "python3"
  },
  "language_info": {
   "codemirror_mode": {
    "name": "ipython",
    "version": 3
   },
   "file_extension": ".py",
   "mimetype": "text/x-python",
   "name": "python",
   "nbconvert_exporter": "python",
   "pygments_lexer": "ipython3",
   "version": "3.12.4"
  }
 },
 "nbformat": 4,
 "nbformat_minor": 5
}
